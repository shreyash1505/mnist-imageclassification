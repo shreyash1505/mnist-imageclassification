{
 "cells": [
  {
   "cell_type": "code",
   "execution_count": 1,
   "metadata": {
    "_cell_guid": "2a46da40-444d-47a4-9829-94d4b05236dc",
    "_uuid": "ecba9230f6fc853da30cbdbb6b9c456d5a3a4930"
   },
   "outputs": [
    {
     "name": "stderr",
     "output_type": "stream",
     "text": [
      "C:\\ProgramData\\Anaconda3\\envs\\py36\\lib\\site-packages\\h5py\\__init__.py:36: FutureWarning: Conversion of the second argument of issubdtype from `float` to `np.floating` is deprecated. In future, it will be treated as `np.float64 == np.dtype(float).type`.\n",
      "  from ._conv import register_converters as _register_converters\n",
      "Using TensorFlow backend.\n"
     ]
    }
   ],
   "source": [
    "import numpy as np\n",
    "import pandas as pd\n",
    "import matplotlib.image as mpim\n",
    "import matplotlib.pyplot as plt\n",
    "%matplotlib inline\n",
    "\n",
    "from keras import backend as K\n",
    "K.set_image_dim_ordering('th')\n",
    "from keras.utils import np_utils\n",
    "from sklearn.model_selection import train_test_split\n",
    "from keras.models import Sequential\n",
    "from keras.layers import Dense, Dropout, Flatten, Reshape, InputLayer\n",
    "from keras.layers.normalization import BatchNormalization\n",
    "from keras.layers.convolutional import Conv2D, MaxPooling2D"
   ]
  },
  {
   "cell_type": "code",
   "execution_count": 6,
   "metadata": {
    "_cell_guid": "b574bf1b-b3a3-4e7d-9b59-e9aea6c99862",
    "_uuid": "1ca0e7d5369c09fc76ee761cc991ea1872886330"
   },
   "outputs": [],
   "source": [
    "#download from https://www.kaggle.com/yufengg/fashion-mnist/data\n",
    "train_data = pd.read_csv('./data/train.csv')\n",
    "test_data = pd.read_csv('./data/test.csv')"
   ]
  },
  {
   "cell_type": "code",
   "execution_count": 7,
   "metadata": {
    "_cell_guid": "e75dd0fd-2441-44b8-b628-11d61eefa3d3",
    "_uuid": "9f6d9e8e02ea6b0317bd01eb6e2b96daf5b0a154"
   },
   "outputs": [],
   "source": [
    "objects = {0: 'T-shirt/top',\n",
    "           1: 'Trouser',\n",
    "           2: 'Pullover',\n",
    "           3: 'Dress',\n",
    "           4: 'Coat',\n",
    "           5: 'Sandal',\n",
    "           6: 'Shirt',\n",
    "           7: 'Sneaker',\n",
    "           8: 'Bag',\n",
    "           9: 'Ankle boot'}"
   ]
  },
  {
   "cell_type": "code",
   "execution_count": 12,
   "metadata": {
    "_cell_guid": "7abca928-b2ef-4998-8180-e0488af1d2b3",
    "_uuid": "01411f30fdc7e59c88e8af2870fe1d79047222d5"
   },
   "outputs": [],
   "source": [
    "images = train_data.iloc[:, 1:]\n",
    "labels = train_data.iloc[:, 0]"
   ]
  },
  {
   "cell_type": "code",
   "execution_count": 13,
   "metadata": {
    "_cell_guid": "9616dd5d-4ce9-46f2-9eeb-8d736ac05a2b",
    "_uuid": "29a563f4b1c470d802bedef9fe28d2834a38523b"
   },
   "outputs": [],
   "source": [
    "labels = labels.as_matrix()\n",
    "images = images.as_matrix().reshape(images.shape[0], 1, 28, 28)"
   ]
  },
  {
   "cell_type": "code",
   "execution_count": 14,
   "metadata": {
    "_cell_guid": "d484a082-3b63-46a7-8739-420de46b8880",
    "_uuid": "561cd36d95a751f871ce5b6db75687a63d7c7690"
   },
   "outputs": [],
   "source": [
    "labels = np_utils.to_categorical(labels)"
   ]
  },
  {
   "cell_type": "code",
   "execution_count": 15,
   "metadata": {
    "_cell_guid": "b6ab6d0a-f5f7-4a90-a8ab-c163bff3d1e6",
    "_uuid": "ec80d3320ba156b627be948a65570b168c01a119"
   },
   "outputs": [],
   "source": [
    "train_features, vali_features, train_labels, vali_labels = train_test_split(images, labels, \n",
    "                                                                           test_size=0.15, random_state=200)"
   ]
  },
  {
   "cell_type": "code",
   "execution_count": 16,
   "metadata": {
    "_cell_guid": "05913b8b-d08a-499f-b20d-7f982c6fbbee",
    "_uuid": "12545f1ec9921f7c404bec78321e444be28da958"
   },
   "outputs": [
    {
     "name": "stdout",
     "output_type": "stream",
     "text": [
      "train_features (51000, 1, 28, 28)\n",
      "vali_features (9000, 1, 28, 28)\n",
      "train_labels (51000, 10)\n",
      "vali_labels (9000, 10)\n"
     ]
    }
   ],
   "source": [
    "print('train_features', train_features.shape)\n",
    "print('vali_features', vali_features.shape)\n",
    "print('train_labels', train_labels.shape)\n",
    "print('vali_labels', vali_labels.shape)"
   ]
  },
  {
   "cell_type": "code",
   "execution_count": 17,
   "metadata": {
    "_cell_guid": "b86402fd-0beb-437f-ba05-c7a9bf890023",
    "_uuid": "b866ec6bf3bc0464d0a882e0c3f14b4bdcafe536"
   },
   "outputs": [],
   "source": [
    "epochs = 30\n",
    "batch_size = 256\n",
    "\n",
    "n_classes = 10\n",
    "model = Sequential()\n",
    "\n",
    "model.add(InputLayer(input_shape=(1, 28, 28)))\n",
    "model.add(BatchNormalization())\n",
    "model.add(Conv2D(64, (5, 5), activation='relu',\n",
    "          bias_initializer='RandomNormal', kernel_initializer='random_uniform'))\n",
    "model.add(MaxPooling2D(pool_size=(2, 2)))\n",
    "model.add(Conv2D(512, (5, 5), activation='relu'))\n",
    "model.add(MaxPooling2D(pool_size=(2, 2)))\n",
    "model.add(Flatten())\n",
    "model.add(Dense(128, activation='relu'))\n",
    "model.add(Dropout(0.35))\n",
    "model.add(Dense(64, activation='relu'))\n",
    "model.add(Dropout(0.35))\n",
    "model.add(Dense(n_classes, activation='softmax'))"
   ]
  },
  {
   "cell_type": "code",
   "execution_count": 19,
   "metadata": {
    "_cell_guid": "dca9df43-814c-4463-9768-5427d5b312eb",
    "_uuid": "7c81ffd573b3f119dc631c597912e5dca5811e19"
   },
   "outputs": [],
   "source": [
    "from keras.optimizers import Adam\n",
    "opt = Adam(decay=0.001)"
   ]
  },
  {
   "cell_type": "code",
   "execution_count": 20,
   "metadata": {
    "_cell_guid": "e79248a7-8dee-40fe-91e5-3389c634c39c",
    "_uuid": "66aac56507d15659b3c23b9282acd8e2b6b0f4ba"
   },
   "outputs": [],
   "source": [
    "model.compile(optimizer=opt,\n",
    "              loss='categorical_crossentropy',\n",
    "              metrics=['accuracy'])"
   ]
  },
  {
   "cell_type": "code",
   "execution_count": 21,
   "metadata": {
    "scrolled": true
   },
   "outputs": [
    {
     "name": "stdout",
     "output_type": "stream",
     "text": [
      "_________________________________________________________________\n",
      "Layer (type)                 Output Shape              Param #   \n",
      "=================================================================\n",
      "input_1 (InputLayer)         (None, 1, 28, 28)         0         \n",
      "_________________________________________________________________\n",
      "batch_normalization_1 (Batch (None, 1, 28, 28)         112       \n",
      "_________________________________________________________________\n",
      "conv2d_1 (Conv2D)            (None, 64, 24, 24)        1664      \n",
      "_________________________________________________________________\n",
      "max_pooling2d_1 (MaxPooling2 (None, 64, 12, 12)        0         \n",
      "_________________________________________________________________\n",
      "conv2d_2 (Conv2D)            (None, 512, 8, 8)         819712    \n",
      "_________________________________________________________________\n",
      "max_pooling2d_2 (MaxPooling2 (None, 512, 4, 4)         0         \n",
      "_________________________________________________________________\n",
      "flatten_1 (Flatten)          (None, 8192)              0         \n",
      "_________________________________________________________________\n",
      "dense_1 (Dense)              (None, 128)               1048704   \n",
      "_________________________________________________________________\n",
      "dropout_1 (Dropout)          (None, 128)               0         \n",
      "_________________________________________________________________\n",
      "dense_2 (Dense)              (None, 64)                8256      \n",
      "_________________________________________________________________\n",
      "dropout_2 (Dropout)          (None, 64)                0         \n",
      "_________________________________________________________________\n",
      "dense_3 (Dense)              (None, 10)                650       \n",
      "=================================================================\n",
      "Total params: 1,879,098\n",
      "Trainable params: 1,879,042\n",
      "Non-trainable params: 56\n",
      "_________________________________________________________________\n"
     ]
    }
   ],
   "source": [
    "model.summary()"
   ]
  },
  {
   "cell_type": "code",
   "execution_count": 22,
   "metadata": {
    "_cell_guid": "41951e18-782f-4c61-bffe-17227b0900de",
    "_uuid": "4c355690a9be1b8f6d7a64d9734c8d2e6d8030c0",
    "scrolled": true
   },
   "outputs": [
    {
     "name": "stdout",
     "output_type": "stream",
     "text": [
      "WARNING:tensorflow:Variable *= will be deprecated. Use variable.assign_mul if you want assignment to the variable value or 'x = x * y' if you want a new python Tensor object.\n",
      "Train on 51000 samples, validate on 9000 samples\n",
      "Epoch 1/30\n",
      "51000/51000 [==============================] - 8s 154us/step - loss: 0.7737 - acc: 0.7255 - val_loss: 0.3858 - val_acc: 0.8638\n",
      "Epoch 2/30\n",
      "51000/51000 [==============================] - 5s 105us/step - loss: 0.4438 - acc: 0.8509 - val_loss: 0.3232 - val_acc: 0.8893\n",
      "Epoch 3/30\n",
      "51000/51000 [==============================] - 5s 106us/step - loss: 0.3652 - acc: 0.8784 - val_loss: 0.2865 - val_acc: 0.8962\n",
      "Epoch 4/30\n",
      "51000/51000 [==============================] - 5s 106us/step - loss: 0.3147 - acc: 0.8940 - val_loss: 0.2576 - val_acc: 0.9079\n",
      "Epoch 5/30\n",
      "51000/51000 [==============================] - 5s 106us/step - loss: 0.2856 - acc: 0.9043 - val_loss: 0.2538 - val_acc: 0.9091\n",
      "Epoch 6/30\n",
      "51000/51000 [==============================] - 5s 106us/step - loss: 0.2616 - acc: 0.9100 - val_loss: 0.2475 - val_acc: 0.9111\n",
      "Epoch 7/30\n",
      "51000/51000 [==============================] - 5s 106us/step - loss: 0.2336 - acc: 0.9181 - val_loss: 0.2417 - val_acc: 0.9144\n",
      "Epoch 8/30\n",
      "51000/51000 [==============================] - 5s 106us/step - loss: 0.2165 - acc: 0.9255 - val_loss: 0.2260 - val_acc: 0.9191\n",
      "Epoch 9/30\n",
      "51000/51000 [==============================] - 5s 107us/step - loss: 0.1982 - acc: 0.9320 - val_loss: 0.2211 - val_acc: 0.9213\n",
      "Epoch 10/30\n",
      "51000/51000 [==============================] - 5s 106us/step - loss: 0.1833 - acc: 0.9357 - val_loss: 0.2361 - val_acc: 0.9212\n",
      "Epoch 11/30\n",
      "51000/51000 [==============================] - 5s 107us/step - loss: 0.1703 - acc: 0.9410 - val_loss: 0.2206 - val_acc: 0.9244\n",
      "Epoch 12/30\n",
      "51000/51000 [==============================] - 5s 108us/step - loss: 0.1553 - acc: 0.9458 - val_loss: 0.2186 - val_acc: 0.9257\n",
      "Epoch 13/30\n",
      "51000/51000 [==============================] - 5s 108us/step - loss: 0.1428 - acc: 0.9511 - val_loss: 0.2197 - val_acc: 0.9272\n",
      "Epoch 14/30\n",
      "51000/51000 [==============================] - 5s 108us/step - loss: 0.1324 - acc: 0.9541 - val_loss: 0.2229 - val_acc: 0.9293\n",
      "Epoch 15/30\n",
      "51000/51000 [==============================] - 5s 108us/step - loss: 0.1228 - acc: 0.9566 - val_loss: 0.2333 - val_acc: 0.9294\n",
      "Epoch 16/30\n",
      "51000/51000 [==============================] - 5s 108us/step - loss: 0.1118 - acc: 0.9611 - val_loss: 0.2369 - val_acc: 0.9271\n",
      "Epoch 17/30\n",
      "51000/51000 [==============================] - 5s 107us/step - loss: 0.1050 - acc: 0.9639 - val_loss: 0.2301 - val_acc: 0.9302\n",
      "Epoch 18/30\n",
      "51000/51000 [==============================] - 5s 107us/step - loss: 0.0956 - acc: 0.9674 - val_loss: 0.2349 - val_acc: 0.9298\n",
      "Epoch 19/30\n",
      "51000/51000 [==============================] - 5s 107us/step - loss: 0.0881 - acc: 0.9689 - val_loss: 0.2384 - val_acc: 0.9291\n",
      "Epoch 20/30\n",
      "51000/51000 [==============================] - 5s 107us/step - loss: 0.0815 - acc: 0.9717 - val_loss: 0.2444 - val_acc: 0.9301\n",
      "Epoch 21/30\n",
      "51000/51000 [==============================] - 5s 107us/step - loss: 0.0735 - acc: 0.9743 - val_loss: 0.2530 - val_acc: 0.9301\n",
      "Epoch 22/30\n",
      "51000/51000 [==============================] - 5s 107us/step - loss: 0.0719 - acc: 0.9750 - val_loss: 0.2613 - val_acc: 0.9307\n",
      "Epoch 23/30\n",
      "51000/51000 [==============================] - 5s 106us/step - loss: 0.0657 - acc: 0.9776 - val_loss: 0.2729 - val_acc: 0.9311\n",
      "Epoch 24/30\n",
      "51000/51000 [==============================] - 5s 106us/step - loss: 0.0594 - acc: 0.9796 - val_loss: 0.2678 - val_acc: 0.9297\n",
      "Epoch 25/30\n",
      "51000/51000 [==============================] - 5s 106us/step - loss: 0.0569 - acc: 0.9803 - val_loss: 0.2737 - val_acc: 0.9310\n",
      "Epoch 26/30\n",
      "51000/51000 [==============================] - 5s 107us/step - loss: 0.0517 - acc: 0.9820 - val_loss: 0.2696 - val_acc: 0.9320\n",
      "Epoch 27/30\n",
      "51000/51000 [==============================] - 5s 106us/step - loss: 0.0477 - acc: 0.9835 - val_loss: 0.3033 - val_acc: 0.9286\n",
      "Epoch 28/30\n",
      "51000/51000 [==============================] - 5s 107us/step - loss: 0.0439 - acc: 0.9852 - val_loss: 0.3021 - val_acc: 0.9300\n",
      "Epoch 29/30\n",
      "51000/51000 [==============================] - 5s 107us/step - loss: 0.0410 - acc: 0.9860 - val_loss: 0.2992 - val_acc: 0.9310\n",
      "Epoch 30/30\n",
      "51000/51000 [==============================] - 5s 107us/step - loss: 0.0395 - acc: 0.9868 - val_loss: 0.3067 - val_acc: 0.9333\n"
     ]
    }
   ],
   "source": [
    "import time\n",
    "start_time = time.time()\n",
    "\n",
    "training = model.fit(train_features, train_labels,\n",
    "                     validation_data=(vali_features, vali_labels),\n",
    "                     epochs=epochs,\n",
    "                     batch_size=batch_size, \n",
    "                     verbose=1)\n",
    "training_time = time.time() - start_time"
   ]
  },
  {
   "cell_type": "code",
   "execution_count": 23,
   "metadata": {},
   "outputs": [
    {
     "data": {
      "image/png": "[encoded data removed]",
      "text/plain": [
       "<matplotlib.figure.Figure at 0x2aebf90a5c0>"
      ]
     },
     "metadata": {},
     "output_type": "display_data"
    },
    {
     "data": {
      "image/png": "[encoded data removed]",
      "text/plain": [
       "<matplotlib.figure.Figure at 0x2aec2f43e48>"
      ]
     },
     "metadata": {},
     "output_type": "display_data"
    }
   ],
   "source": [
    "loss = training.history['loss']\n",
    "val_loss = training.history['val_loss']\n",
    "acc = training.history['acc']\n",
    "val_acc = training.history['val_acc']\n",
    "\n",
    "tra = plt.plot(loss)\n",
    "val = plt.plot(val_loss, 'r')\n",
    "plt.xlabel('Epochs')\n",
    "plt.ylabel('Loss')\n",
    "plt.title('Loss')\n",
    "plt.legend([\"Training\", \"Validation\"])\n",
    "plt.show()\n",
    "\n",
    "plt.plot(acc)\n",
    "plt.plot(val_acc, 'r')\n",
    "plt.xlabel('Epochs')\n",
    "plt.ylabel('Loss')\n",
    "plt.title('Accuracy')\n",
    "plt.legend(['Training', 'Validation'], loc=4)\n",
    "plt.show()"
   ]
  },
  {
   "cell_type": "code",
   "execution_count": 24,
   "metadata": {
    "_cell_guid": "76748dc5-cd6c-4af9-b4da-6c7c34baa75a",
    "_uuid": "391704a5b8526a35012390e2a4b080014ec93ccf"
   },
   "outputs": [],
   "source": [
    "test_images = test_data.iloc[:, 1:]\n",
    "test_labels = test_data.iloc[:, 0]\n",
    "test_labels = test_labels.as_matrix()\n",
    "test_features = test_images.as_matrix().reshape(test_images.shape[0], 1, 28, 28)"
   ]
  },
  {
   "cell_type": "code",
   "execution_count": 25,
   "metadata": {
    "_cell_guid": "95d2c70b-6d36-43a5-9e87-fba511e5e203",
    "_uuid": "da3c749102e096c5a27cba30fbb401c1a4f02757",
    "scrolled": true
   },
   "outputs": [],
   "source": [
    "from sklearn.metrics import accuracy_score\n",
    "pred = model.predict(test_features)\n",
    "pred_digits = np.argmax(pred, axis=1)"
   ]
  },
  {
   "cell_type": "code",
   "execution_count": 26,
   "metadata": {
    "_cell_guid": "6eeec6de-125a-42cf-aaf2-7d1fc5a97bdc",
    "_uuid": "7f8c2336391815120ff1dca3afb9b46636038497"
   },
   "outputs": [
    {
     "data": {
      "text/plain": [
       "0.9341"
      ]
     },
     "execution_count": 26,
     "metadata": {},
     "output_type": "execute_result"
    }
   ],
   "source": [
    "accuracy_score(test_labels, pred_digits)"
   ]
  },
  {
   "cell_type": "markdown",
   "metadata": {
    "_cell_guid": "779e52c2-ffeb-4a19-a918-0ac3398548fe",
    "_uuid": "d09074914146365c5f3575f81033592fbb3622e3",
    "collapsed": true
   },
   "source": [
    "# original MNIST"
   ]
  },
  {
   "cell_type": "code",
   "execution_count": 27,
   "metadata": {},
   "outputs": [
    {
     "name": "stdout",
     "output_type": "stream",
     "text": [
      "Downloading data from https://s3.amazonaws.com/img-datasets/mnist.npz\n",
      "11493376/11490434 [==============================] - 1s 0us/step\n"
     ]
    }
   ],
   "source": [
    "from keras.datasets import mnist\n",
    "\n",
    "(x_train, y_train), (x_test, y_test) = mnist.load_data()"
   ]
  },
  {
   "cell_type": "code",
   "execution_count": 29,
   "metadata": {
    "scrolled": true
   },
   "outputs": [],
   "source": [
    "train_features = x_train.reshape((x_train.shape[0], 1, 28, 28))\n",
    "test_features = x_test.reshape((x_test.shape[0], 1, 28, 28))"
   ]
  },
  {
   "cell_type": "code",
   "execution_count": 30,
   "metadata": {},
   "outputs": [],
   "source": [
    "train_labels = np_utils.to_categorical(y_train)\n",
    "train_features, vali_features, train_labels, vali_labels = train_test_split(train_features, train_labels, \n",
    "                                                                           test_size=0.15, random_state=80)"
   ]
  },
  {
   "cell_type": "code",
   "execution_count": 31,
   "metadata": {},
   "outputs": [],
   "source": [
    "opt = Adam(decay=0.001)\n",
    "model.compile(optimizer=opt,\n",
    "              loss='categorical_crossentropy',\n",
    "              metrics=['accuracy'])"
   ]
  },
  {
   "cell_type": "code",
   "execution_count": 32,
   "metadata": {
    "scrolled": true
   },
   "outputs": [
    {
     "name": "stdout",
     "output_type": "stream",
     "text": [
      "Train on 51000 samples, validate on 9000 samples\n",
      "Epoch 1/30\n",
      "51000/51000 [==============================] - 6s 112us/step - loss: 0.5994 - acc: 0.8284 - val_loss: 0.0893 - val_acc: 0.9769\n",
      "Epoch 2/30\n",
      "51000/51000 [==============================] - 5s 101us/step - loss: 0.1539 - acc: 0.9585 - val_loss: 0.0578 - val_acc: 0.9849\n",
      "Epoch 3/30\n",
      "51000/51000 [==============================] - 5s 102us/step - loss: 0.1056 - acc: 0.9716 - val_loss: 0.0478 - val_acc: 0.9881\n",
      "Epoch 4/30\n",
      "51000/51000 [==============================] - 5s 102us/step - loss: 0.0771 - acc: 0.9794 - val_loss: 0.0445 - val_acc: 0.9890\n",
      "Epoch 5/30\n",
      "51000/51000 [==============================] - 5s 102us/step - loss: 0.0614 - acc: 0.9835 - val_loss: 0.0486 - val_acc: 0.9884\n",
      "Epoch 6/30\n",
      "51000/51000 [==============================] - 5s 102us/step - loss: 0.0512 - acc: 0.9867 - val_loss: 0.0427 - val_acc: 0.9904\n",
      "Epoch 7/30\n",
      "51000/51000 [==============================] - 5s 102us/step - loss: 0.0407 - acc: 0.9885 - val_loss: 0.0431 - val_acc: 0.9891\n",
      "Epoch 8/30\n",
      "51000/51000 [==============================] - 5s 102us/step - loss: 0.0357 - acc: 0.9906 - val_loss: 0.0399 - val_acc: 0.9920\n",
      "Epoch 9/30\n",
      "51000/51000 [==============================] - 5s 101us/step - loss: 0.0308 - acc: 0.9918 - val_loss: 0.0424 - val_acc: 0.9920\n",
      "Epoch 10/30\n",
      "51000/51000 [==============================] - 5s 102us/step - loss: 0.0264 - acc: 0.9929 - val_loss: 0.0434 - val_acc: 0.9908\n",
      "Epoch 11/30\n",
      "51000/51000 [==============================] - 5s 102us/step - loss: 0.0257 - acc: 0.9930 - val_loss: 0.0452 - val_acc: 0.9916\n",
      "Epoch 12/30\n",
      "51000/51000 [==============================] - 5s 101us/step - loss: 0.0209 - acc: 0.9945 - val_loss: 0.0420 - val_acc: 0.9923\n",
      "Epoch 13/30\n",
      "51000/51000 [==============================] - 5s 101us/step - loss: 0.0179 - acc: 0.9949 - val_loss: 0.0416 - val_acc: 0.9922\n",
      "Epoch 14/30\n",
      "51000/51000 [==============================] - 5s 102us/step - loss: 0.0174 - acc: 0.9951 - val_loss: 0.0421 - val_acc: 0.9917\n",
      "Epoch 15/30\n",
      "51000/51000 [==============================] - 5s 101us/step - loss: 0.0165 - acc: 0.9949 - val_loss: 0.0478 - val_acc: 0.9917\n",
      "Epoch 16/30\n",
      "51000/51000 [==============================] - 5s 101us/step - loss: 0.0149 - acc: 0.9954 - val_loss: 0.0415 - val_acc: 0.9921\n",
      "Epoch 17/30\n",
      "51000/51000 [==============================] - 5s 101us/step - loss: 0.0139 - acc: 0.9962 - val_loss: 0.0504 - val_acc: 0.9909\n",
      "Epoch 18/30\n",
      "51000/51000 [==============================] - 5s 102us/step - loss: 0.0136 - acc: 0.9959 - val_loss: 0.0474 - val_acc: 0.9914\n",
      "Epoch 19/30\n",
      "51000/51000 [==============================] - 5s 101us/step - loss: 0.0120 - acc: 0.9966 - val_loss: 0.0460 - val_acc: 0.9927\n",
      "Epoch 20/30\n",
      "51000/51000 [==============================] - 5s 103us/step - loss: 0.0120 - acc: 0.9968 - val_loss: 0.0517 - val_acc: 0.9919\n",
      "Epoch 21/30\n",
      "51000/51000 [==============================] - 5s 103us/step - loss: 0.0125 - acc: 0.9965 - val_loss: 0.0477 - val_acc: 0.9919\n",
      "Epoch 22/30\n",
      "51000/51000 [==============================] - 5s 101us/step - loss: 0.0111 - acc: 0.9968 - val_loss: 0.0485 - val_acc: 0.9910\n",
      "Epoch 23/30\n",
      "51000/51000 [==============================] - 5s 101us/step - loss: 0.0099 - acc: 0.9969 - val_loss: 0.0475 - val_acc: 0.9924\n",
      "Epoch 24/30\n",
      "51000/51000 [==============================] - 5s 101us/step - loss: 0.0086 - acc: 0.9977 - val_loss: 0.0501 - val_acc: 0.9918\n",
      "Epoch 25/30\n",
      "51000/51000 [==============================] - 5s 101us/step - loss: 0.0093 - acc: 0.9973 - val_loss: 0.0499 - val_acc: 0.9916\n",
      "Epoch 26/30\n",
      "51000/51000 [==============================] - 5s 101us/step - loss: 0.0089 - acc: 0.9974 - val_loss: 0.0513 - val_acc: 0.9919\n",
      "Epoch 27/30\n",
      "51000/51000 [==============================] - 5s 101us/step - loss: 0.0096 - acc: 0.9974 - val_loss: 0.0467 - val_acc: 0.9923\n",
      "Epoch 28/30\n",
      "51000/51000 [==============================] - 5s 101us/step - loss: 0.0069 - acc: 0.9982 - val_loss: 0.0511 - val_acc: 0.9920\n",
      "Epoch 29/30\n",
      "51000/51000 [==============================] - 5s 100us/step - loss: 0.0082 - acc: 0.9976 - val_loss: 0.0470 - val_acc: 0.9927\n",
      "Epoch 30/30\n",
      "51000/51000 [==============================] - 5s 101us/step - loss: 0.0073 - acc: 0.9978 - val_loss: 0.0567 - val_acc: 0.9920\n"
     ]
    }
   ],
   "source": [
    "training2 = model.fit(train_features, train_labels,\n",
    "                     validation_data=(vali_features, vali_labels),\n",
    "                     epochs=epochs,\n",
    "                     batch_size=batch_size, \n",
    "                     verbose=1)"
   ]
  },
  {
   "cell_type": "code",
   "execution_count": 33,
   "metadata": {},
   "outputs": [
    {
     "data": {
      "image/png": "[encoded data removed]",
      "text/plain": [
       "<matplotlib.figure.Figure at 0x2aec31b6a58>"
      ]
     },
     "metadata": {},
     "output_type": "display_data"
    },
    {
     "data": {
      "image/png": "[encoded data removed]",
      "text/plain": [
       "<matplotlib.figure.Figure at 0x2aec31c0e10>"
      ]
     },
     "metadata": {},
     "output_type": "display_data"
    }
   ],
   "source": [
    "loss = training2.history['loss']\n",
    "val_loss = training2.history['val_loss']\n",
    "acc = training2.history['acc']\n",
    "val_acc = training2.history['val_acc']\n",
    "\n",
    "tra = plt.plot(loss)\n",
    "val = plt.plot(val_loss, 'r')\n",
    "plt.xlabel('Epochs')\n",
    "plt.ylabel('Loss')\n",
    "plt.title('Loss')\n",
    "plt.legend([\"Training\", \"Validation\"])\n",
    "plt.show()\n",
    "\n",
    "plt.plot(acc)\n",
    "plt.plot(val_acc, 'r')\n",
    "plt.xlabel('Epochs')\n",
    "plt.ylabel('Loss')\n",
    "plt.title('Accuracy')\n",
    "plt.legend(['Training', 'Validation'], loc=4)\n",
    "plt.show()"
   ]
  },
  {
   "cell_type": "code",
   "execution_count": 35,
   "metadata": {},
   "outputs": [],
   "source": [
    "test_labels = y_test\n",
    "pred = model.predict(test_features)\n",
    "pred_digits = np.argmax(pred, axis=1)"
   ]
  },
  {
   "cell_type": "code",
   "execution_count": 36,
   "metadata": {},
   "outputs": [
    {
     "data": {
      "text/plain": [
       "0.9938"
      ]
     },
     "execution_count": 36,
     "metadata": {},
     "output_type": "execute_result"
    }
   ],
   "source": [
    "accuracy_score(test_labels, pred_digits)"
   ]
  },
  {
   "cell_type": "code",
   "execution_count": null,
   "metadata": {
    "collapsed": true
   },
   "outputs": [],
   "source": []
  }
 ],
 "metadata": {
  "kernelspec": {
   "display_name": "Python 3",
   "language": "python",
   "name": "python3"
  },
  "language_info": {
   "codemirror_mode": {
    "name": "ipython",
    "version": 3
   },
   "file_extension": ".py",
   "mimetype": "text/x-python",
   "name": "python",
   "nbconvert_exporter": "python",
   "pygments_lexer": "ipython3",
   "version": "3.6.4"
  }
 },
 "nbformat": 4,
 "nbformat_minor": 1
}
